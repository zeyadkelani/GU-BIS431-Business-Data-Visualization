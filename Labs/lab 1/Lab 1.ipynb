{
  "cells": [
    {
      "cell_type": "markdown",
      "id": "0160cbc6-b2ce-4fba-91ba-4872fe0cfff6",
      "metadata": {
        "tags": [],
        "id": "0160cbc6-b2ce-4fba-91ba-4872fe0cfff6"
      },
      "source": [
        "# Week One & Two: Python Recap\n",
        "\n",
        "In this notebook, we will be revising some Python basics.\n",
        "\n",
        "1. [Variables](#1)\n",
        "    1. [Data types](#2)\n",
        "<br> <br>\n",
        "2. [Operators](#3)\n",
        "    1. [Assignment](#4)\n",
        "    2. [Arithmetic](#5)\n",
        "    3. [String](#6)\n",
        "    4. [Comparison & Identity](#7)\n",
        "    5. [Logical](#8)   \n",
        "<br><br>\n",
        "[Notes on User Input and Python Syntax](#24)\n",
        "<br><br>\n",
        "3. [Conditional Execution](#9)\n",
        "    1. [Conditional Execution: if statements](#10)\n",
        "    2. [Alternative Execution: if...else... statements](#11)\n",
        "    3. [Chained Conditionals: if...elif...else... statements](#12)\n",
        "<br> <br>\n",
        "4. [Loops](#13)\n",
        "    1. [Definite, Finite Loop: For loop](#14)\n",
        "    2. [Indefinite, Finite Loop: While loop](#15)\n",
        "    3. [Infinite Loops](#16)\n",
        "<br> <br>\n",
        "5. [Functions](#17)\n",
        "    1. [Built in Functions](#18)\n",
        "    2. [User-defined Functions](#19)\n",
        "<br> <br>\n",
        "[Notes on Variable Scope](#25)\n",
        "<br><br>\n",
        "6. [Data Structures](#20)\n",
        "    1. [Lists](#21)\n",
        "    2. [Dictionaries](#22)\n",
        "    3. [Tuples](#23)\n",
        "* * *"
      ]
    },
    {
      "cell_type": "markdown",
      "id": "7ad025da-8c17-4557-b3b7-2776fbfbee68",
      "metadata": {
        "id": "7ad025da-8c17-4557-b3b7-2776fbfbee68"
      },
      "source": [
        "## <a id = 1> 1. Variables </a>\n",
        "\n",
        "A variable is a reserved memory location that stores values.\n",
        "\n",
        "The values can be numbers (integer, float, complex), strings (text), or boolean (True/False).\n",
        "\n",
        "With Python, the variables are declared by assigning values to them. Note that even after declaring a variable with one type, you can change it to a variable of another type by reassigning it.\n",
        "\n",
        "__Variable Naming Rules:__\n",
        "* Case sensitive\n",
        "* Contain alpha-numeric characters & underscores only\n",
        "* Cannot start with a number\n",
        "* There are some reserved names that can be accessed through help(\"keywords\")"
      ]
    },
    {
      "cell_type": "code",
      "execution_count": null,
      "id": "9d995505-2689-48da-bd91-430d17f32b33",
      "metadata": {
        "id": "9d995505-2689-48da-bd91-430d17f32b33"
      },
      "outputs": [],
      "source": [
        "a = 7\n",
        "b = 2.5\n",
        "c = complex(3,4)\n",
        "d = \"Hello World\"\n",
        "e = True\n",
        "\n",
        "print (a, \"is a\", type(a))\n",
        "print (b, \"is a\", type(b))\n",
        "print (c, \"is a\", type(c))\n",
        "print (d, \"is a\", type(d))\n",
        "print (e, \"is a\", type(e))"
      ]
    },
    {
      "cell_type": "code",
      "execution_count": null,
      "id": "7259441b",
      "metadata": {
        "id": "7259441b"
      },
      "outputs": [],
      "source": [
        "a = \"Nour\"\n",
        "print (\"The last value of a is,\", a, \"and has type\", type(a))"
      ]
    },
    {
      "cell_type": "code",
      "execution_count": null,
      "id": "7be4ed2c",
      "metadata": {
        "id": "7be4ed2c"
      },
      "outputs": [],
      "source": [
        "x,y,z = 2,3,\"John\"\n",
        "print(x)\n",
        "print(y)\n",
        "print(z)\n",
        "\n",
        "e = f = g = 1\n",
        "print(\"e has a value of\", e)\n",
        "print(\"f has a value of\", f)\n",
        "print(\"g has a value of\", g)"
      ]
    },
    {
      "cell_type": "code",
      "execution_count": null,
      "id": "bc3a27b8",
      "metadata": {
        "id": "bc3a27b8"
      },
      "outputs": [],
      "source": [
        "help(\"keywords\")"
      ]
    },
    {
      "cell_type": "markdown",
      "source": [
        "\n",
        " <a id = 2> 1. Data types </a>\n",
        "Variables can store data of different types, and different types can do different things.\n",
        "Python has the following data types built-in by default, in these categories:\n",
        "<br> <br>\n",
        "Text Type:\tstr\n",
        "<br> <br>\n",
        "Numeric Types:\tint, float, complex\n",
        "<br> <br>\n",
        "Boolean Type:\tbool\n",
        "\n",
        "\n",
        "\n",
        "\n"
      ],
      "metadata": {
        "id": "P2qF_6MzLovU"
      },
      "id": "P2qF_6MzLovU"
    },
    {
      "cell_type": "code",
      "source": [
        "x = \"Hello World\"\n",
        "print(type(x))\n",
        "\n",
        "x = 5\n",
        "print(type(x))\n",
        "\n",
        "x = 20.5\n",
        "print(type(x))\n",
        "\n",
        "x = 1j\n",
        "print(type(x))\n",
        "\n",
        "\n",
        "x = True\n",
        "print(type(x))\n",
        "\n",
        "\n"
      ],
      "metadata": {
        "id": "NaKerxokNQzx"
      },
      "id": "NaKerxokNQzx",
      "execution_count": null,
      "outputs": []
    },
    {
      "cell_type": "markdown",
      "id": "4217a055",
      "metadata": {
        "id": "4217a055"
      },
      "source": [
        " <a id = 2> 2. Operators </a>\n",
        "\n",
        "Operators are special symbols/keywords that execute certain operations.\n",
        "\n",
        "#### <a id = 3> A. Assignment Operators </a>\n",
        "\n",
        "You've already seen the most important assignment operator above! **=**"
      ]
    },
    {
      "cell_type": "code",
      "execution_count": null,
      "id": "b962b780",
      "metadata": {
        "id": "b962b780"
      },
      "outputs": [],
      "source": [
        "x = 2\n",
        "print(\"x is a variable declared with value\", x)\n",
        "\n",
        "x += 10\n",
        "\n",
        "print(\"Using the += operator adds the number on the right hand side to the variable on the left hand side. It executes x = x + 10, so x's value is now\", x)\n",
        "\n",
        "x -= 2\n",
        "\n",
        "print(\"Using the -= operator subtracts the number on the right hand side from the variable on the left hand side. It executes x = x - 2, so x's value is now\", x)\n"
      ]
    },
    {
      "cell_type": "markdown",
      "id": "4e62392f",
      "metadata": {
        "id": "4e62392f"
      },
      "source": [
        "These are called shorthand assignment operators. They combine the assignment operator with arithmetic operators.\n",
        "> *=\n",
        "\n",
        "> /=\n",
        "\n",
        "> //=\n",
        "\n",
        "> %=\n",
        "\n",
        "> \\**=\n"
      ]
    },
    {
      "cell_type": "markdown",
      "id": "c645b133",
      "metadata": {
        "id": "c645b133"
      },
      "source": [
        "#### <a id = 4> B. Arithmetic Operators </a>\n",
        "Arithmetic operators are used with numeric values to perform common mathematical operations.\n",
        "\n",
        "Addition\n",
        "> \\+\n",
        "\n",
        "Subtraction\n",
        "> \\-\n",
        "\n",
        "Multiplication\n",
        "> \\*\n",
        "\n",
        "Division\n",
        "> /\n",
        "\n",
        "Floor Division - Divides the first argument by the second and rounds the result **down** to the nearest whole number\n",
        "> //\n",
        "\n",
        "Exponentiation\n",
        "> \\**\n",
        "\n",
        "Modulus - Returns the remainder of dividing the first number by the second\n",
        "> %"
      ]
    },
    {
      "cell_type": "code",
      "execution_count": null,
      "id": "b2b70456",
      "metadata": {
        "id": "b2b70456"
      },
      "outputs": [],
      "source": [
        "a = 2\n",
        "b = 4\n",
        "\n",
        "print(\"Addition: \",a + b)\n",
        "print(\"Subtraction: \", b - a)\n",
        "print(\"Multiplication: \", a * b)\n",
        "print(\"Division: \", a/b)\n",
        "print(\"Floor Division: \", a//b)\n",
        "print(\"Exponentiation: \", b**a)\n",
        "print(\"Modulus with remainder: \", a%b)\n",
        "print(\"Modulus with no remainder: \", b%a)\n"
      ]
    },
    {
      "cell_type": "markdown",
      "id": "f2154a59",
      "metadata": {
        "id": "f2154a59"
      },
      "source": [
        "#### Important note regarding order of arithmetic operations\n",
        "If you do not use (parentheses), you need to know that the math operators are executed according to their order of importance as mentioned below:\n",
        "1. Parantheses\n",
        "2. Exponents and roots\n",
        "3. Multiplication and division\n",
        "4. Addition and subtraction"
      ]
    },
    {
      "cell_type": "markdown",
      "id": "ae35e1b9",
      "metadata": {
        "id": "ae35e1b9"
      },
      "source": [
        "#### <a id = 5> C. String Operators </a>\n",
        "Some operations can also be applied on strings.\n",
        "\n",
        "Concatentation - Adds values on either side of the operator\n",
        "> \\+\n",
        "\n",
        "Repetition - Creates new strings, concatenating multiple copies of the same string\n",
        "> \\*\n",
        "\n",
        "Slice - Gives the character from the given index\n",
        "> []\n",
        "\n",
        "Range Slice - Gives the characters from the given range\n",
        "> [ : ]"
      ]
    },
    {
      "cell_type": "code",
      "execution_count": null,
      "id": "51a53614",
      "metadata": {
        "id": "51a53614"
      },
      "outputs": [],
      "source": [
        "c = \"Hello\"\n",
        "d = \"World\"\n",
        "\n",
        "print(\"Concatentation: \", c + d)\n",
        "print(\"Concatentation with space: \", c + \" \" + d)\n",
        "print(\"Repetition: \", c*2)\n",
        "print(\"Slice example 1: \", c[0]) #Indexes start at zero\n",
        "print(\"Slice example 2: \", c[-1])\n",
        "print(\"Slice example 3: \", c[4])\n",
        "print(\"Range slice example 1: \", d[0:2]) #Ranges are exclusive\n",
        "print(\"Range slice example 2: \", d[2:])\n",
        "print(\"Range slice example 3: \", d[:3])"
      ]
    },
    {
      "cell_type": "markdown",
      "id": "03238c96",
      "metadata": {
        "id": "03238c96"
      },
      "source": [
        "#### <a id = 6> D. Comparison Operators </a>\n",
        "Comparison operators are used to compare two values.\n",
        "\n",
        "Equal\n",
        "> ==\n",
        "\n",
        "Not Equal\n",
        "> !=\n",
        "\n",
        "Greater than\n",
        "> \\>\n",
        "\n",
        "Less than\n",
        "> <\n",
        "\n",
        "Greater than or equal to\n",
        "> \\>=\n",
        "\n",
        "Less than or equal to\n",
        "> <="
      ]
    },
    {
      "cell_type": "code",
      "execution_count": null,
      "id": "a1fef763",
      "metadata": {
        "id": "a1fef763"
      },
      "outputs": [],
      "source": [
        "x = 10\n",
        "y = 20\n",
        "\n",
        "print(\"is x equal to y? \", x == y)\n",
        "print(\"is x greater than y? \", x > y)\n",
        "print(\"is x less than y? \", x < y)\n",
        "print(\"is x greater than or equal to y? \", x >= y)\n",
        "print(\"is x less than or equal to y? \", x <= y)\n",
        "print(\"is x not equal to y? \", x != y)\n"
      ]
    },
    {
      "cell_type": "markdown",
      "id": "25f0e601",
      "metadata": {
        "id": "25f0e601"
      },
      "source": [
        "_Note_ There are also Identity Operators, which compare the objects, not if the objects, or variables, hold the same value, but rather, if they are actually the same object in the same memory location.\n",
        "\n",
        "> is\n",
        "\n",
        "> is not"
      ]
    },
    {
      "cell_type": "code",
      "execution_count": null,
      "id": "f0a67bb9",
      "metadata": {
        "id": "f0a67bb9"
      },
      "outputs": [],
      "source": [
        "x = [\"apples\", \"bananas\"] #This is a list, we will see it later in this notebook\n",
        "y = [\"apples\", \"bananas\"]\n",
        "z = x\n",
        "\n",
        "print(x is y)\n",
        "print(x is z)\n",
        "print(\"But when only comparing the values, the result is\", x == y)"
      ]
    },
    {
      "cell_type": "markdown",
      "id": "ed7095b5",
      "metadata": {
        "id": "ed7095b5"
      },
      "source": [
        "#### <a id = 7> E. Logical Operators </a>\n",
        "Logical operators are used to combine conditional statements.\n",
        "\n",
        "and - returns true if both statement are True\n",
        "\n",
        "or - returns true if one of the statements are True\n",
        "\n",
        "not - reverses the results, returns False if the result is True"
      ]
    },
    {
      "cell_type": "code",
      "execution_count": null,
      "id": "5c4659f6",
      "metadata": {
        "id": "5c4659f6"
      },
      "outputs": [],
      "source": [
        "x = 10\n",
        "\n",
        "print(x > 5 and x < 20)\n",
        "\n",
        "print(x > 5 or x < 3)\n",
        "\n",
        "print(not(x > 5))"
      ]
    },
    {
      "cell_type": "markdown",
      "id": "dfc2e9bc",
      "metadata": {
        "id": "dfc2e9bc"
      },
      "source": [
        "## <a id = 23> Notes on User Input and Python Syntax </a>\n",
        "\n",
        "#### User Input\n",
        "\n",
        "Sometimes we would like to take the value for a variable from the user. For this, Python provides a method called input(). When this function is called, the program will stop and wait for the user to type something. The program resumes when the user presses enter.\n",
        "\n",
        "In order to prompt string inputs:\n",
        "> str(input(\"You can add a prompt for user here\"))\n",
        "\n",
        "In order to prompt integer inputs:\n",
        "> int(input(\"You can add a prompt for user here\"))\n",
        "\n",
        "In order to prompt float inputs:\n",
        "> float(input(\"You can add a prompt for user here\"))\n",
        "\n",
        "#### Python Syntax\n",
        "\n",
        "* __Identation__ is very important in Python. It is used to indicate a block of code, and Python will automatically insert indentations. To avoid errors, make sure not to remove them when they are necessary and not to add any unnecessary identation. Keep an eye out for indentations in loops, conditionals, and function definition.\n",
        "* You can use __comments__ for in-code documentation by using the sharp symbol \"#\"\n",
        "* If comments are taking one or more than one line, they are called \"docstring,\" and can be started by using triple quotes at the beginning and end of the docstring \"\"\"\n"
      ]
    },
    {
      "cell_type": "code",
      "execution_count": 16,
      "id": "2d54b19c",
      "metadata": {
        "id": "2d54b19c"
      },
      "outputs": [],
      "source": []
    },
    {
      "cell_type": "markdown",
      "id": "856e3012",
      "metadata": {
        "id": "856e3012"
      },
      "source": [
        "## <a id = 8> 3. Conditional Execution </a>\n",
        "\n",
        "Conditions allow us to control what the program does and perform different actions based on the statements.\n",
        "\n",
        "#### <a id = 9> A. Conditional Execution: if statement </a>\n",
        "The simplest form of conditional statements.\n",
        "\n",
        "Example: Write a program that prints “Fail” if a student gets a grade less than 10"
      ]
    },
    {
      "cell_type": "code",
      "execution_count": null,
      "id": "85f7e025",
      "metadata": {
        "id": "85f7e025"
      },
      "outputs": [],
      "source": [
        "grade = float(input(\"Enter grade:\"))\n",
        "\n",
        "if grade < 10:\n",
        "    print(\"FAIL\")"
      ]
    },
    {
      "cell_type": "code",
      "execution_count": null,
      "id": "4d96ffd5",
      "metadata": {
        "scrolled": true,
        "id": "4d96ffd5"
      },
      "outputs": [],
      "source": [
        "grade = float(input(\"Enter grade:\"))\n",
        "\n",
        "if grade < 10:\n",
        "    print(\"FAIL\")"
      ]
    },
    {
      "cell_type": "markdown",
      "id": "78bb446f",
      "metadata": {
        "id": "78bb446f"
      },
      "source": [
        "#### <a id = 10> B. Alternative Execution: if...else... statement </a>\n",
        "This is another form of conditional statements is one in which there are two mutually exclusive possibilities.\n",
        "\n",
        "Example: Write a program that prints “Fail” if a student gets a grade less than 10 and “Pass” otherwise.\n"
      ]
    },
    {
      "cell_type": "code",
      "execution_count": null,
      "id": "03851f2b",
      "metadata": {
        "id": "03851f2b"
      },
      "outputs": [],
      "source": [
        "grade = float(input(\"Enter grade:\"))\n",
        "\n",
        "if grade < 10:\n",
        "    print(\"FAIL\")\n",
        "else:\n",
        "    print(\"PASS\")"
      ]
    },
    {
      "cell_type": "code",
      "execution_count": null,
      "id": "d6e9d6d4",
      "metadata": {
        "id": "d6e9d6d4"
      },
      "outputs": [],
      "source": [
        "grade = float(input(\"Enter grade:\"))\n",
        "\n",
        "if grade < 10:\n",
        "    print(\"FAIL\")\n",
        "else:\n",
        "    print(\"PASS\")"
      ]
    },
    {
      "cell_type": "markdown",
      "id": "b5a2a700",
      "metadata": {
        "id": "b5a2a700"
      },
      "source": [
        "#### <a id= 11> C. Chained Conditionals: If... elif... else </a>\n",
        "In this case, there are more than two mutually exclusice possibilities.\n",
        "\n",
        "Example: Write a program that prints “Fail” if grade is less than 10, “Good” if grade is between 10 and 15, “Very Good” if grade is more than 15.\n"
      ]
    },
    {
      "cell_type": "code",
      "execution_count": null,
      "id": "07359b91",
      "metadata": {
        "id": "07359b91"
      },
      "outputs": [],
      "source": [
        "grade = float(input(\"Enter grade:\"))\n",
        "\n",
        "if grade < 10:\n",
        "    print(\"FAIL\")\n",
        "elif grade >= 10 and grade <= 15:\n",
        "    print(\"GOOD\")\n",
        "else:\n",
        "    print(\"VERY GOOD\")"
      ]
    },
    {
      "cell_type": "code",
      "execution_count": null,
      "id": "86d1ae45",
      "metadata": {
        "id": "86d1ae45"
      },
      "outputs": [],
      "source": [
        "grade = float(input(\"Enter grade:\"))\n",
        "\n",
        "if grade < 10:\n",
        "    print(\"FAIL\")\n",
        "elif grade >= 10 and grade <= 15:\n",
        "    print(\"GOOD\")\n",
        "else:\n",
        "    print(\"VERY GOOD\")"
      ]
    },
    {
      "cell_type": "code",
      "execution_count": null,
      "id": "ba9ce478",
      "metadata": {
        "id": "ba9ce478"
      },
      "outputs": [],
      "source": [
        "grade = float(input(\"Enter grade:\"))\n",
        "\n",
        "if grade < 10:\n",
        "    print(\"FAIL\")\n",
        "elif grade >= 10 and grade <= 15:\n",
        "    print(\"GOOD\")\n",
        "else:\n",
        "    print(\"VERY GOOD\")"
      ]
    },
    {
      "cell_type": "markdown",
      "id": "50a92fc7",
      "metadata": {
        "id": "50a92fc7"
      },
      "source": [
        "## <a id=12> 4. Loops </a>\n",
        "A loop is used to repeat a specific block of code until a certain condition is reached.\n",
        "\n",
        "Note that each instance the loop body is executed is called an **iteration**\n",
        "    \n",
        "#### <a id = 13> A. Definite, Finite Loop: for loop </a>\n",
        "    \n",
        "The for loop is used to repeat a block of code for a **known** number of times or over a **finite set of items**\n",
        "\n",
        "Example: Write a program to add the sequence of numbers from 1 to 100.\n"
      ]
    },
    {
      "cell_type": "code",
      "execution_count": null,
      "id": "feb150f5",
      "metadata": {
        "id": "feb150f5"
      },
      "outputs": [],
      "source": [
        "total = 0\n",
        "\n",
        "for i in range(1,101):\n",
        "    total = total + i\n",
        "print(total)"
      ]
    },
    {
      "cell_type": "markdown",
      "id": "1d6ae463",
      "metadata": {
        "id": "1d6ae463"
      },
      "source": [
        "Example 2: Write a program that displays the even numbers from 1 to 100."
      ]
    },
    {
      "cell_type": "code",
      "execution_count": null,
      "id": "572f72b7",
      "metadata": {
        "id": "572f72b7"
      },
      "outputs": [],
      "source": [
        "EvenNums = []\n",
        "\n",
        "for i in range (1,101):\n",
        "    if i%2 == 0:\n",
        "        EvenNums.append(i)\n",
        "print(EvenNums)"
      ]
    },
    {
      "cell_type": "markdown",
      "id": "dfda08cd",
      "metadata": {
        "id": "dfda08cd"
      },
      "source": [
        "#### <a id = 14> B. Indefinite, Finite Loop: while loop </a>\n",
        "The while loop is used to repeat a block of code for as long as a certain condition is true.\n",
        "\n",
        "Example: write a program that displays the even numbers from 1 to 100 using a While loop"
      ]
    },
    {
      "cell_type": "code",
      "execution_count": null,
      "id": "4348966f",
      "metadata": {
        "id": "4348966f"
      },
      "outputs": [],
      "source": [
        "EvenNums = []\n",
        "counter = 1\n",
        "\n",
        "while counter <= 100:\n",
        "    if counter%2 == 0:\n",
        "        EvenNums.append(counter)\n",
        "    counter = counter + 1\n",
        "\n",
        "print(EvenNums)"
      ]
    },
    {
      "cell_type": "markdown",
      "id": "862fabac",
      "metadata": {
        "id": "862fabac"
      },
      "source": [
        "Example: Write a program that keeps asking the student to input their password until it is correct.\n",
        "Assume that every student at FEPS is issued an email with a unified password “FEPS12345”. If the password is correct, the student gets the message “you are now logged in” Otherwise, print \"incorrect password, please try again\""
      ]
    },
    {
      "cell_type": "code",
      "execution_count": null,
      "id": "bef7d19c",
      "metadata": {
        "id": "bef7d19c"
      },
      "outputs": [],
      "source": [
        "correctPassword = \"FEPS12345\"\n",
        "password = None # To initialize a variable with a null value, or no value at all.\n",
        "\n",
        "while password != correctPassword:\n",
        "    password = str(input(\"Enter your password:\"))\n",
        "    if password == correctPassword:\n",
        "        print(\"You are now logged in\")\n",
        "    else:\n",
        "        print(\"Incorrect password, please try again\")"
      ]
    },
    {
      "cell_type": "markdown",
      "id": "ced80812",
      "metadata": {
        "id": "ced80812"
      },
      "source": [
        "#### <a id = 15> C. Infinite Loops </a>\n",
        "\n",
        "Infinite loops are loops that will keep on running forever, unless one \"breaks\" the loop.\n",
        "\n",
        "Infinite loops could by unintentional (a mistake) or intentional (until a break statement is input by the user)\n",
        "\n",
        "Example of an unintentional infinite loop: not setting or incrementing a counter correctly in a while loop."
      ]
    },
    {
      "cell_type": "code",
      "execution_count": null,
      "id": "5a6a7d19",
      "metadata": {
        "id": "5a6a7d19"
      },
      "outputs": [],
      "source": [
        "counter = 1\n",
        "\n",
        "while counter <=10:\n",
        "    print(\"Hello World!)"
      ]
    },
    {
      "cell_type": "markdown",
      "id": "8debb23d",
      "metadata": {
        "id": "8debb23d"
      },
      "source": [
        "Example: Write a program that keeps asking the student to input their password until it is correct. Assume that every student at FEPS is issued an email with a unified password “FEPS12345”. If the password is correct, the student gets the message “you are now logged in” Otherwise, print \"incorrect password, please try again\""
      ]
    },
    {
      "cell_type": "code",
      "execution_count": null,
      "id": "a07bca8e",
      "metadata": {
        "id": "a07bca8e"
      },
      "outputs": [],
      "source": [
        "correctPassword = \"FEPS12345\"\n",
        "\n",
        "while True: # To set up an infinite loop\n",
        "    password = str(input(\"Enter your password:\"))\n",
        "    if password == correctPassword:\n",
        "        print(\"You are now logged in\")\n",
        "        break # To break infinite loop\n",
        "    else:\n",
        "        print(\"Incorrect password, please try again\")"
      ]
    },
    {
      "cell_type": "markdown",
      "id": "1aab57ca",
      "metadata": {
        "id": "1aab57ca"
      },
      "source": [
        "## <a id=16>5. Functions</a>\n",
        "\n",
        "A function is a named sequence of statements that perform a computation or a specific task. There are Python built-in functions, and there are user-defined functions. When one defines a function, one specifies the name of the function and the sequence of statements. Then, one can call the function by its name.\n",
        "\n",
        "#### <a id = 17> A. Built-in Functions </a>\n",
        "\n",
        "Built-in functions are ones that are already defined in Python libraries and can be called directly.\n",
        "\n",
        "The following are examples of built-in functions:\n",
        "\n",
        "> max()\n",
        "\n",
        "returns the maximum\n",
        "\n",
        "> min()\n",
        "\n",
        "returns the minimum\n",
        "\n",
        "> len()\n",
        "\n",
        "returns the number of items\n",
        "\n",
        "> type()\n",
        "\n",
        "returns the type of a variable\n",
        "\n",
        "There are also type conversion functions, such as:\n",
        "\n",
        "> int()\n",
        "\n",
        "converts a value into an integer\n",
        "\n",
        "> float()\n",
        "\n",
        "converts a value into a float\n",
        "\n",
        "> str()\n",
        "\n",
        "converts a value into a string\n",
        "\n",
        "Also, Python has a math module that provides most of the familiar mathematical functions. In order to use a module, it must be imported first\n",
        "\n",
        "> import math\n",
        "\n",
        "Then, we can call any function from the module by specifying the name of the module and the name of the function, separated by a dot.\n",
        "\n",
        "> math.log2()\n",
        "\n",
        "To check out all functions in the math module, check out https://docs.python.org/3/library/math.html"
      ]
    },
    {
      "cell_type": "code",
      "execution_count": null,
      "id": "a700e107",
      "metadata": {
        "id": "a700e107"
      },
      "outputs": [],
      "source": [
        "a = \"Hello World\"\n",
        "b = [1,2,3,4]\n",
        "\n",
        "print(\"What is the largest item in b?\", max(b))\n",
        "\n",
        "print(\"What is the length of a?\", len(a)) #Note that the space is considered a character\n",
        "\n",
        "#We have already seen the type() function to check the variables' type/class\n",
        "print(type(a))\n",
        "print(type(b))\n",
        "\n",
        "c = 512\n",
        "d = float(d)\n",
        "\n",
        "print(\"The variable c holds a variable of type\", type(c), \"and we can use one of the type conversion functions on it, so d is of type\", type(d))\n",
        "\n",
        "print(c)\n",
        "print(d)"
      ]
    },
    {
      "cell_type": "code",
      "execution_count": null,
      "id": "9f837937",
      "metadata": {
        "id": "9f837937"
      },
      "outputs": [],
      "source": [
        "import math\n",
        "\n",
        "x = 9\n",
        "\n",
        "print(\"The following function gets the factorial of x\", math.factorial(x))\n",
        "\n",
        "print(\"The following function gets the square root of x\", math.sqrt(x))\n"
      ]
    },
    {
      "cell_type": "markdown",
      "id": "f645af52",
      "metadata": {
        "id": "f645af52"
      },
      "source": [
        "#### <a id=18>B. User-defined Functions </a>\n",
        "\n",
        "One defines a function for reusability. In order to avoid rewriting the same chunk of code over and over again, one can define a function once and call it whenever it is necessary in the program.\n",
        "\n",
        "A function **definition** specifies the name of a new function and the sequence of statements that execute when the function is **called**. Function definition generates no output, the function executes only when it’s called.\n",
        "\n",
        "def function_name(arguments):\n",
        "\n",
        "       statements to execute when the function is called\n",
        "       return return_value\n",
        "       \n",
        "**def** is a keyword to define a function.\n",
        "\n",
        "**function_name** is the name of the function; function names follow the same rules of variable names.\n",
        "\n",
        "**arguments** are the parameters of the function. They are optional, some functions may require no parameters, and some functions may require one or more parameters. If a function has no arguments, the function_name is followed by empty parantheses. *def function_name():*\n",
        "\n",
        "**return** is a keyword to mark the function's return value. This is optional because a function may or may not return a value when called.\n",
        "\n",
        "Example: Write a Python function that takes one argument, integer days, and print how many weeks and days it is.\n"
      ]
    },
    {
      "cell_type": "code",
      "execution_count": null,
      "id": "46d54e42",
      "metadata": {
        "id": "46d54e42"
      },
      "outputs": [],
      "source": [
        "#Defining a function does not generate any output\n",
        "def readable_time(days):\n",
        "    numWeeks = int(days/7)\n",
        "    numRemainingDays = days % 7\n",
        "    print(days, \"is equivalent to\", numWeeks, \"weeks and\", numRemainingDays, \"days\")"
      ]
    },
    {
      "cell_type": "code",
      "execution_count": null,
      "id": "340fded1",
      "metadata": {
        "id": "340fded1"
      },
      "outputs": [],
      "source": [
        "a = int(input(\"Enter the number of days to be converted: \"))\n",
        "readable_time(a)"
      ]
    },
    {
      "cell_type": "markdown",
      "id": "60c1ac0a",
      "metadata": {
        "id": "60c1ac0a"
      },
      "source": [
        "Example: Write a Python function to find the max of three numbers."
      ]
    },
    {
      "cell_type": "code",
      "execution_count": null,
      "id": "606c9e1e",
      "metadata": {
        "id": "606c9e1e"
      },
      "outputs": [],
      "source": [
        "#Defining a function does not generate any output\n",
        "def greatest_num(x,y,z):\n",
        "    if x > y and x > z:\n",
        "        result = x\n",
        "    elif y > x and y > z:\n",
        "        result = y\n",
        "    elif z > x and z > y:\n",
        "        result = z\n",
        "    else:\n",
        "        result = \"All three numbers are equal\"\n",
        "    return result  # return keyword allows you to save the result variable"
      ]
    },
    {
      "cell_type": "code",
      "execution_count": null,
      "id": "990be7d1",
      "metadata": {
        "id": "990be7d1"
      },
      "outputs": [],
      "source": [
        "a = int(input(\"Enter first number: \"))\n",
        "b = int(input(\"Enter second number: \"))\n",
        "c = int(input(\"Enter third number: \"))\n",
        "\n",
        "get_great = greatest_num(a,b,c)\n",
        "print(\"The greatest number is\", get_great)"
      ]
    },
    {
      "cell_type": "markdown",
      "id": "e1198c78",
      "metadata": {
        "id": "e1198c78"
      },
      "source": [
        "## <a id = 24> Notes on Variable Scope</a>\n",
        "\n",
        "A scope of a variable identifies where it can be accessed (to read or update its value). A variable can be classified into two types according to its scope: **local** or **global**\n",
        "\n",
        "* A local variable is initialized inside a function, and it is only accessible inside its function. If you try to use a local variable outside its function, you get a **NameError**\n",
        "\n",
        "\n",
        "* A global variable is initialized outside functions, and it is accessible (for reading) anywhere in the program, whether it is inside or outside functions\n",
        "\n",
        "    * In order to change the value of a global variable inside a function, you have to redefine it inside the function using the **global** keyword."
      ]
    },
    {
      "cell_type": "markdown",
      "id": "d44e9918",
      "metadata": {
        "id": "d44e9918"
      },
      "source": [
        "## <a id=19> 6. Data Structures </a>\n",
        "Data Structures are a way of organizing data so that it can be accessed more efficiently depending upon the situation.\n",
        "####  <a id=20> A. Lists </a>\n",
        "A list is a sequence of values. The values in a list are called elements, or items. The elements in a list can be of any type: numbers (whether integers or float), strings, other lists, or it could be a mix of multiple types.\n",
        "\n",
        "The simplest way to create a new list is to enclose the items in a square bracket **[ ]** or **list()** function.\n",
        "\n",
        "List items are accessible by referring to their index number. Indexing starts at 0 to len-1 in Python. The method **index()** can be used to search the list for a specified item and return its index; however, note that if there are more than one instances, only the first instance's index will be returned.\n",
        "\n",
        "Lists are mutable (changeable), you can change the order of items in a list, reassign an item in a list, delete an item, or add an item."
      ]
    },
    {
      "cell_type": "code",
      "execution_count": null,
      "id": "5ccb7c24",
      "metadata": {
        "id": "5ccb7c24"
      },
      "outputs": [],
      "source": [
        "students = [\"Ali\", \"Adam\", \"Mina\", \"Mariam\", \"Tina\", \"Marina\"]\n",
        "\n",
        "print(students[0])\n",
        "print(students[len(students)-1])\n",
        "\n",
        "# Negative indexing: it is equivalent to students[len(students)-x]\n",
        "print(students[-6])\n",
        "print(students[-1])\n",
        "\n",
        "print(\"List before change: \", students)\n",
        "students[0] = \"Adam\"\n",
        "print(\"List after change:\", students)\n",
        "\n",
        "students.index(\"Adam\")\n",
        "\n",
        "# You can ask the index() method to search starting a certain index\n",
        "print(\"Searching for Adam after index 0/starting index 1 results in: \", students.index(\"Adam\",1))"
      ]
    },
    {
      "cell_type": "markdown",
      "id": "55b90e32",
      "metadata": {
        "id": "55b90e32"
      },
      "source": [
        "### List Operators and Methods\n",
        "\n",
        "**List Operators:**\n",
        "\n",
        "The **+** operator concatenates lists.\n",
        "\n",
        "The * operator repeats a list a given number of times\n",
        "\n",
        "The slice operators work on lists, ex: listName[0:3] prints items at index 0, 1 and 2.\n",
        "\n",
        "**del** operator deletes an element based on its index.\n",
        "\n",
        "**List Methods:**\n",
        "\n",
        "**listName.append()** adds a new element to the end of a list.\n",
        "\n",
        "**listName.extend()** takes a list as an _argument_ and appends all of the elements.\n",
        "\n",
        "**listName.sort()** arranges the elements of the list from low to high.\n",
        "\n",
        "**listName.count()** counts the number of times a specified value occurs in a list.\n",
        "\n",
        "**listName.remove()** removes a specified element (not its index) from the list; however, be cautious as this method removes the first instance of the element."
      ]
    },
    {
      "cell_type": "code",
      "execution_count": null,
      "id": "5b30be8f",
      "metadata": {
        "id": "5b30be8f"
      },
      "outputs": [],
      "source": [
        "students = [\"Adam\", \"Adam\", \"Mina\", \"Mariam\", \"Tina\", \"Marina\"]\n",
        "grades = [4,4,5,6,6,7]\n",
        "\n",
        "# List operators\n",
        "students_grades = students + grades\n",
        "\n",
        "print(\"Using the + operator: \", students_grades)\n",
        "\n",
        "print(\"Using the * operator: \", students*2)\n",
        "\n",
        "print(\"Using the slice operator: \", students[0:3])\n",
        "\n",
        "print(\"Before using del operator: \", students)\n",
        "del students[3]\n",
        "print(\"After using the del operator: \", students )\n",
        "\n",
        "# List methods\n",
        "\n",
        "students.append(\"Mariam\")\n",
        "\n",
        "print(\"After using the .append() method: \", students)\n",
        "\n",
        "students.sort()\n",
        "\n",
        "print(\"After using the .sort() method: \", students)\n",
        "\n",
        "print(\"The number of times Adam is found in the list of students: \", students.count(\"Adam\"))\n",
        "\n",
        "students.remove(\"Adam\")\n",
        "\n",
        "print(\"After using the .remove() method: \", students)\n",
        "\n",
        "students.extend(grades)\n",
        "\n",
        "print(\"After using the .extend() method: \", students)"
      ]
    },
    {
      "cell_type": "markdown",
      "id": "77f842a6",
      "metadata": {
        "id": "77f842a6"
      },
      "source": [
        "#### Traversing a List\n",
        "\n",
        "One can traverse the items of a list, as in process each item on its own. Traversing can be done through a for loop.\n",
        "\n",
        "Example: Update the list of grades to add 2 bonus points for each student.\n",
        "\n",
        "*Note range() is an exclusive range that begins at 0*"
      ]
    },
    {
      "cell_type": "code",
      "execution_count": null,
      "id": "b714bddd",
      "metadata": {
        "id": "b714bddd"
      },
      "outputs": [],
      "source": [
        "grades = [4, 4, 5, 6, 6, 7]\n",
        "\n",
        "for i in range(len(grades)):\n",
        "    grades[i] = grades[i] + 2\n",
        "\n",
        "print(grades)"
      ]
    },
    {
      "cell_type": "markdown",
      "id": "0cd3cd3e",
      "metadata": {
        "id": "0cd3cd3e"
      },
      "source": [
        "####  <a id=21> B. Dictionaries </a>\n",
        "\n",
        "A dictionary is similar to a list but more general. In a list, the index positions must be integers, but in a dictionary, the index (or rather the key) is almost of any type.\n",
        "\n",
        "A dictionary is composed of key-value pairs; thus, a dictionary maps between a set of keys and a set of values. The dictionary values can be duplicated, of any data type, and are mutable. However, dictionary **keys** are immutable and must be unique. Note that keys are _case sensitive_, so \"Detra\" is not \"detra\".\n",
        "\n",
        "A dictionary is mutable as items can be added or removed.\n",
        "\n",
        "A dictionary can be created using the function **dict()** or braces/curly brackets **{ }**.\n",
        "\n",
        "The slice operator **does not** work for a dictionary."
      ]
    },
    {
      "cell_type": "code",
      "execution_count": null,
      "id": "b06e58b7",
      "metadata": {
        "id": "b06e58b7"
      },
      "outputs": [],
      "source": [
        "results = {\"Detra\" : 17,\n",
        "          \"Nova\": 84,\n",
        "          \"Charlie\" : 22,\n",
        "          \"Henry\" : 75,\n",
        "          \"Roxanne\" : 92,\n",
        "          \"Elsa\" : 29}\n",
        "\n",
        "results1 = dict()\n",
        "results1[\"Detra\"] = 17\n",
        "results1[\"Nova\"] = 84\n",
        "results1[\"Charlie\"] = 22\n",
        "results1[\"Henry\"] = 75\n",
        "results1[\"Roxanne\"] = 92\n",
        "results1[\"Elsa\"] = 29\n",
        "\n",
        "print(results)\n",
        "\n",
        "print(results1)"
      ]
    },
    {
      "cell_type": "markdown",
      "id": "2297fc96",
      "metadata": {
        "id": "2297fc96"
      },
      "source": [
        "#### Accesing items in a Dictionary\n",
        "\n",
        "Items in a dictionary can be accessed similar to items in a list, by using the index, but in a dictionary, the index is instead a key. The keys can be used to look up the corresponding values.\n",
        "\n",
        "The **in** operator works on dictionares; it returns True if the key appears in the dictionary and False otherwise.\n",
        "\n",
        "The **method values()** returns the values of a dictionary as a list. This list can then be used along with the in operator to check whether a certain value appears as a value in a dictionary or not.\n",
        "\n",
        "To learn more about Python Dictionaries and their methods, https://www.geeksforgeeks.org/python-dictionary/"
      ]
    },
    {
      "cell_type": "code",
      "execution_count": null,
      "id": "9b4a985e",
      "metadata": {
        "id": "9b4a985e"
      },
      "outputs": [],
      "source": [
        "results = {\"Detra\" : 17,\n",
        "          \"Nova\": 84,\n",
        "          \"Charlie\" : 22,\n",
        "          \"Henry\" : 75,\n",
        "          \"Roxanne\" : 92,\n",
        "          \"Elsa\" : 29}\n",
        "\n",
        "print(results[\"Elsa\"])\n",
        "\n",
        "print(\"Checking keys:\",(\"Roxanne\" in results))\n",
        "print(\"Checking keys:\",(\"Ahmed\" in results))\n",
        "print(\"Checking keys:\",(\"roxanne\" in results))\n",
        "\n",
        "valueList = list(results.values())\n",
        "\n",
        "print(\"Checking values:\", 100 in valueList)\n",
        "print(\"Checking values:\", 92 in valueList)"
      ]
    },
    {
      "cell_type": "markdown",
      "id": "02cfa476",
      "metadata": {
        "id": "02cfa476"
      },
      "source": [
        "####  <a id=22> C. Tuples </a>\n",
        "\n",
        "A tuple is a sequence of values, like a list. A tuple has values of any data type and is indexed by integer, but\n",
        "\n",
        "A tuple is **immutable**; thus, once a tuple is created, its items cannot be changed, no new items can be added, and no items an be removed.\n",
        "\n",
        "A tuple can be created using the function **tuple()** or using parantheses **( )**\n",
        "\n",
        "The slice operator works on tuples. Therefore, accessing items in a tuple is the same as accessing items in a list.\n",
        "\n",
        "To learn more about Python Tuples and their methods, https://www.geeksforgeeks.org/python-tuples/"
      ]
    },
    {
      "cell_type": "code",
      "execution_count": null,
      "id": "b2d1c7fd",
      "metadata": {
        "id": "b2d1c7fd"
      },
      "outputs": [],
      "source": [
        "names = (\"Detra\", \"Nova\", \"Charlie\", \"Henry\", \"Roxanne\", \"Elsa\")\n",
        "grades = tuple((17, 84, 22, 75, 92, 29))\n",
        "\n",
        "print(names)\n",
        "print(grades)"
      ]
    },
    {
      "cell_type": "code",
      "execution_count": null,
      "id": "1c654cba",
      "metadata": {
        "id": "1c654cba"
      },
      "outputs": [],
      "source": [
        "names[0] = \"Ali\""
      ]
    },
    {
      "cell_type": "code",
      "execution_count": null,
      "id": "4964b941",
      "metadata": {
        "id": "4964b941"
      },
      "outputs": [],
      "source": [
        "# A work around is to replace one tuple with another or redefining it.\n",
        "# This work around does NOT make tuples mutable.\n",
        "\n",
        "names = (\"Ali\",) + names[0:]\n",
        "print(names)\n"
      ]
    },
    {
      "cell_type": "code",
      "execution_count": null,
      "id": "92cae2a0",
      "metadata": {
        "id": "92cae2a0"
      },
      "outputs": [],
      "source": [
        "# Example to remove \"Charlie\"\n",
        "\n",
        "names = names[0:3] + names[4:]\n",
        "print(names)"
      ]
    },
    {
      "cell_type": "code",
      "execution_count": null,
      "id": "cc032d1b",
      "metadata": {
        "id": "cc032d1b"
      },
      "outputs": [],
      "source": [
        "print(names[3])\n",
        "print(grades[3:])\n",
        "print(names[:4])"
      ]
    },
    {
      "cell_type": "code",
      "execution_count": null,
      "id": "aa6f4241",
      "metadata": {
        "id": "aa6f4241"
      },
      "outputs": [],
      "source": [
        "x = 9\n",
        "print(\"Hi everyone!\", \"This is the value of x = \", x)"
      ]
    },
    {
      "cell_type": "code",
      "execution_count": null,
      "id": "1f8c60d5",
      "metadata": {
        "id": "1f8c60d5"
      },
      "outputs": [],
      "source": [
        "x = 9\n",
        "x"
      ]
    }
  ],
  "metadata": {
    "kernelspec": {
      "display_name": "Python 3 (ipykernel)",
      "language": "python",
      "name": "python3"
    },
    "language_info": {
      "codemirror_mode": {
        "name": "ipython",
        "version": 3
      },
      "file_extension": ".py",
      "mimetype": "text/x-python",
      "name": "python",
      "nbconvert_exporter": "python",
      "pygments_lexer": "ipython3",
      "version": "3.9.13"
    },
    "colab": {
      "provenance": []
    }
  },
  "nbformat": 4,
  "nbformat_minor": 5
}